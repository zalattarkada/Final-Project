{
 "cells": [
  {
   "cell_type": "code",
   "execution_count": 8,
   "metadata": {},
   "outputs": [],
   "source": [
    "import pandas as pd\n",
    "import requests\n",
    "from bs4 import BeautifulSoup\n"
   ]
  },
  {
   "cell_type": "code",
   "execution_count": 3,
   "metadata": {},
   "outputs": [],
   "source": [
    "url='https://www.boxofficemojo.com/weekend/by-year/2021/'\n"
   ]
  },
  {
   "cell_type": "code",
   "execution_count": 4,
   "metadata": {},
   "outputs": [],
   "source": [
    "req=requests.get(url)\n",
    "content=req.text"
   ]
  },
  {
   "cell_type": "code",
   "execution_count": 9,
   "metadata": {},
   "outputs": [],
   "source": [
    "soup=BeautifulSoup(content)"
   ]
  },
  {
   "cell_type": "code",
   "execution_count": 10,
   "metadata": {},
   "outputs": [],
   "source": [
    "rows=soup.findAll('tr')\n"
   ]
  },
  {
   "cell_type": "code",
   "execution_count": 11,
   "metadata": {},
   "outputs": [],
   "source": [
    "data = rows[8].findAll('td')\n"
   ]
  },
  {
   "cell_type": "code",
   "execution_count": 12,
   "metadata": {},
   "outputs": [
    {
     "data": {
      "text/plain": [
       "[<td class=\"a-text-left mojo-header-column mojo-truncate mojo-field-type-date_interval mojo-sort-column\"><a class=\"a-link-normal\" href=\"/weekend/2021W48/occasion/us_thanksgiving_5/?ref_=bo_wey_table_8\">Nov 24-28</a><div class=\"a-section a-spacing-none\"><span class=\"a-size-small a-color-secondary\">Thanksgiving 5-Day</span></div></td>,\n",
       " <td class=\"a-text-right mojo-field-type-money\">$137,256,716</td>,\n",
       " <td class=\"a-text-right mojo-field-type-percent_delta\">-</td>,\n",
       " <td class=\"a-text-right mojo-field-type-money mojo-estimatable\">$142,082,464</td>,\n",
       " <td class=\"a-text-right mojo-field-type-percent_delta mojo-estimatable\">-</td>,\n",
       " <td class=\"a-text-right mojo-field-type-positive_integer\">42</td>,\n",
       " <td class=\"a-text-left mojo-field-type-release mojo-cell-wide\"><a class=\"a-link-normal\" href=\"/release/rl1887208961/?ref_=bo_wey_table_8\">Encanto</a></td>,\n",
       " <td class=\"a-text-left mojo-field-type-genre hidden\">-</td>,\n",
       " <td class=\"a-text-right mojo-field-type-money hidden\">-</td>,\n",
       " <td class=\"a-text-right mojo-field-type-duration hidden\">-</td>,\n",
       " <td class=\"a-text-right mojo-field-type-date_interval\"><a class=\"a-link-normal\" href=\"/weekend/2021W48/occasion/us_thanksgiving_5/?ref_=bo_wey_table_8\">48</a></td>,\n",
       " <td class=\"a-text-right mojo-field-type-boolean hidden\">true</td>]"
      ]
     },
     "execution_count": 12,
     "metadata": {},
     "output_type": "execute_result"
    }
   ],
   "source": [
    "data\n"
   ]
  },
  {
   "cell_type": "code",
   "execution_count": null,
   "metadata": {},
   "outputs": [],
   "source": []
  }
 ],
 "metadata": {
  "kernelspec": {
   "display_name": "ironhack",
   "language": "python",
   "name": "python3"
  },
  "language_info": {
   "codemirror_mode": {
    "name": "ipython",
    "version": 3
   },
   "file_extension": ".py",
   "mimetype": "text/x-python",
   "name": "python",
   "nbconvert_exporter": "python",
   "pygments_lexer": "ipython3",
   "version": "3.11.3"
  },
  "orig_nbformat": 4
 },
 "nbformat": 4,
 "nbformat_minor": 2
}
