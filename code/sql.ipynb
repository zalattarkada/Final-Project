{
 "cells": [
  {
   "cell_type": "code",
   "execution_count": 1,
   "metadata": {},
   "outputs": [],
   "source": [
    "import pandas as pd\n",
    "from sqlalchemy import create_engine\n",
    "import os"
   ]
  },
  {
   "cell_type": "code",
   "execution_count": 2,
   "metadata": {},
   "outputs": [],
   "source": [
    "engine = create_engine('sqlite:///finalproject.db')\n",
    "\n",
    "# list all CSV files in the current directory\n",
    "csv_files = [f for f in os.listdir(os.getcwd()) if f.endswith('.csv')]\n",
    "\n",
    "for file in csv_files:\n",
    "    # read the data from the CSV file\n",
    "    dataframe = pd.read_csv(file)\n",
    "\n",
    "    # write the data to a new table in the database\n",
    "    dataframe.to_sql(\n",
    "        name=finalproject[:-4],  # name of the table to be created, removed the .csv extension\n",
    "        con=engine,\n",
    "        index=False, \n",
    "        if_exists='replace'  \n",
    "    )"
   ]
  },
  {
   "cell_type": "code",
   "execution_count": null,
   "metadata": {},
   "outputs": [],
   "source": []
  }
 ],
 "metadata": {
  "kernelspec": {
   "display_name": "ironhack",
   "language": "python",
   "name": "python3"
  },
  "language_info": {
   "codemirror_mode": {
    "name": "ipython",
    "version": 3
   },
   "file_extension": ".py",
   "mimetype": "text/x-python",
   "name": "python",
   "nbconvert_exporter": "python",
   "pygments_lexer": "ipython3",
   "version": "3.11.3"
  },
  "orig_nbformat": 4
 },
 "nbformat": 4,
 "nbformat_minor": 2
}
